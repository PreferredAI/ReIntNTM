{
 "cells": [
  {
   "cell_type": "code",
   "execution_count": 1,
   "id": "c2e6f9bb",
   "metadata": {},
   "outputs": [],
   "source": [
    "%load_ext autoreload\n",
    "%autoreload 2"
   ]
  },
  {
   "cell_type": "code",
   "execution_count": 2,
   "id": "acb7eb8a",
   "metadata": {},
   "outputs": [],
   "source": [
    "from algo.gp_based import mdkp, mwbis\n",
    "from algo.normal import greedy\n",
    "import os\n",
    "import pickle\n",
    "import numpy as np\n",
    "from algo.normal import count_unique_words"
   ]
  },
  {
   "cell_type": "markdown",
   "id": "d08c79c9",
   "metadata": {},
   "source": [
    "### 20 Topics"
   ]
  },
  {
   "cell_type": "code",
   "execution_count": 3,
   "id": "c59536da",
   "metadata": {},
   "outputs": [],
   "source": [
    "info = pickle.load(open(\"play_data/ctm20_20NewsGroup_min0.01.pkl\", 'rb'))"
   ]
  },
  {
   "cell_type": "code",
   "execution_count": 4,
   "id": "0e73f6ad",
   "metadata": {},
   "outputs": [
    {
     "data": {
      "text/plain": [
       "dict_keys(['total_score', 'topics', 'topics_list_new', 'topics_list_old', 'topics_combination'])"
      ]
     },
     "execution_count": 4,
     "metadata": {},
     "output_type": "execute_result"
    }
   ],
   "source": [
    "info.keys()"
   ]
  },
  {
   "cell_type": "code",
   "execution_count": 5,
   "id": "4ec13ec4",
   "metadata": {},
   "outputs": [
    {
     "name": "stdout",
     "output_type": "stream",
     "text": [
      "[ 0.13902541  0.19081279  0.0289882  -0.1812763  -0.00165196  0.14188268\n",
      "  0.10550111  0.05282747  0.1618228   0.17090655  0.2735388   0.05213341\n",
      "  0.25914103  0.21782109 -0.24045607  0.10794717  0.260014    0.11165359\n",
      "  0.22233093  0.06156877]\n",
      "NPMI: 0.10672657494910491\n",
      "TU: 0.965\n"
     ]
    }
   ],
   "source": [
    "old_scores = np.array(info[\"total_score\"])[info['topics_list_old']]\n",
    "print(old_scores)\n",
    "print(\"NPMI:\", old_scores.mean())\n",
    "print('TU:', count_unique_words(np.array(info[\"topics\"])[info['topics_list_old']])/(20*10))"
   ]
  },
  {
   "cell_type": "code",
   "execution_count": 6,
   "id": "80bebb68",
   "metadata": {
    "scrolled": true
   },
   "outputs": [
    {
     "name": "stdout",
     "output_type": "stream",
     "text": [
      "Set parameter TokenServer to value \"nas.nodes.preferred.ai\"\n",
      "Set parameter MIPGap to value 0.05\n",
      "Set parameter TimeLimit to value 3600\n",
      "Gurobi Optimizer version 9.5.1 build v9.5.1rc2 (linux64)\n",
      "Thread count: 28 physical cores, 56 logical processors, using up to 28 threads\n",
      "Optimize a model with 916 rows, 1902 columns and 12499 nonzeros\n",
      "Model fingerprint: 0x91383637\n",
      "Variable types: 0 continuous, 1902 integer (1902 binary)\n",
      "Coefficient statistics:\n",
      "  Matrix range     [1e+00, 1e+00]\n",
      "  Objective range  [7e-06, 4e-01]\n",
      "  Bounds range     [1e+00, 1e+00]\n",
      "  RHS range        [2e+01, 2e+02]\n",
      "\n",
      "User MIP start did not produce a new incumbent solution\n",
      "\n",
      "Presolve removed 0 rows and 7 columns\n",
      "Presolve time: 0.04s\n",
      "Presolved: 916 rows, 1895 columns, 12422 nonzeros\n",
      "Variable types: 0 continuous, 1895 integer (1892 binary)\n",
      "\n",
      "Root relaxation: objective 3.643247e+00, 1110 iterations, 0.01 seconds (0.01 work units)\n",
      "\n",
      "    Nodes    |    Current Node    |     Objective Bounds      |     Work\n",
      " Expl Unexpl |  Obj  Depth IntInf | Incumbent    BestBd   Gap | It/Node Time\n",
      "\n",
      "*    0     0               0       3.6432469    3.64325  0.00%     -    0s\n",
      "\n",
      "Explored 1 nodes (1110 simplex iterations) in 0.10 seconds (0.06 work units)\n",
      "Thread count was 28 (of 56 available processors)\n",
      "\n",
      "Solution count 1: 3.64325 \n",
      "\n",
      "Optimal solution found (tolerance 5.00e-02)\n",
      "Best objective 3.643246943019e+00, best bound 3.643246943019e+00, gap 0.0000%\n",
      "[0.18182261 0.19933727 0.18677336 0.25701725 0.18520209 0.10962344\n",
      " 0.15275139 0.20082495 0.21411804 0.24052793 0.10905341 0.10638845\n",
      " 0.0829693  0.18741008 0.07866596 0.1770566  0.2735388  0.21782109\n",
      " 0.260014   0.22233093]\n",
      "NPMI: 0.18216234715095503\n",
      "TU: 0.955\n"
     ]
    }
   ],
   "source": [
    "choices = mdkp(info['topics'], info['total_score'], 20, 0.90*20*10, info['topics_list_old'])\n",
    "new_scores = np.array(info[\"total_score\"])[choices]\n",
    "print(new_scores)\n",
    "print(\"NPMI:\", new_scores.mean())\n",
    "print('TU:', count_unique_words(np.array(info[\"topics\"])[choices])/(20*10))"
   ]
  },
  {
   "cell_type": "code",
   "execution_count": 7,
   "id": "9d46485d",
   "metadata": {
    "scrolled": true
   },
   "outputs": [
    {
     "name": "stdout",
     "output_type": "stream",
     "text": [
      "Set parameter MIPGap to value 0.05\n",
      "Set parameter TimeLimit to value 3600\n",
      "Gurobi Optimizer version 9.5.1 build v9.5.1rc2 (linux64)\n",
      "Thread count: 28 physical cores, 56 logical processors, using up to 28 threads\n",
      "Optimize a model with 89530 rows, 988 columns and 187901 nonzeros\n",
      "Model fingerprint: 0x0e267dec\n",
      "Variable types: 0 continuous, 988 integer (988 binary)\n",
      "Coefficient statistics:\n",
      "  Matrix range     [1e+00, 1e+00]\n",
      "  Objective range  [7e-06, 4e-01]\n",
      "  Bounds range     [1e+00, 1e+00]\n",
      "  RHS range        [1e+00, 2e+01]\n",
      "\n",
      "User MIP start did not produce a new incumbent solution\n",
      "User MIP start violates constraint R20 by 1.000000000\n",
      "\n",
      "Found heuristic solution: objective 0.0046261\n",
      "Presolve removed 88878 rows and 37 columns\n",
      "Presolve time: 0.19s\n",
      "Presolved: 652 rows, 951 columns, 13263 nonzeros\n",
      "Variable types: 0 continuous, 951 integer (951 binary)\n",
      "Found heuristic solution: objective 1.8598697\n",
      "\n",
      "Root relaxation: objective 3.331758e+00, 133 iterations, 0.00 seconds (0.00 work units)\n",
      "\n",
      "    Nodes    |    Current Node    |     Objective Bounds      |     Work\n",
      " Expl Unexpl |  Obj  Depth IntInf | Incumbent    BestBd   Gap | It/Node Time\n",
      "\n",
      "*    0     0               0       3.3317576    3.33176  0.00%     -    0s\n",
      "\n",
      "Explored 1 nodes (133 simplex iterations) in 0.24 seconds (0.22 work units)\n",
      "Thread count was 28 (of 56 available processors)\n",
      "\n",
      "Solution count 3: 3.33176 1.85987 0.00462614 \n",
      "\n",
      "Optimal solution found (tolerance 5.00e-02)\n",
      "Best objective 3.331757572852e+00, best bound 3.331757572852e+00, gap 0.0000%\n",
      "[0.18182261 0.18677336 0.13158431 0.25701725 0.18520209 0.10962344\n",
      " 0.21411804 0.17733381 0.0829693  0.18741008 0.07866596 0.06358849\n",
      " 0.06255149 0.09784393 0.08240757 0.2735388  0.25914103 0.21782109\n",
      " 0.260014   0.22233093]\n",
      "NPMI: 0.1665878786426141\n",
      "TU: 1.0\n"
     ]
    }
   ],
   "source": [
    "choices = mwbis(info['topics'], info['total_score'], 20, 0, info['topics_list_old'])\n",
    "new_scores = np.array(info[\"total_score\"])[choices]\n",
    "print(new_scores)\n",
    "print(\"NPMI:\", new_scores.mean())\n",
    "print('TU:', count_unique_words(np.array(info[\"topics\"])[choices])/(20*10))"
   ]
  },
  {
   "cell_type": "code",
   "execution_count": 8,
   "id": "e4c12362",
   "metadata": {},
   "outputs": [
    {
     "name": "stdout",
     "output_type": "stream",
     "text": [
      "[0.19933727 0.18677336 0.25701725 0.10479763 0.18520209 0.13378175\n",
      " 0.10962344 0.19210879 0.21411804 0.10799388 0.10905341 0.0829693\n",
      " 0.18741008 0.08999891 0.16515402 0.2735388  0.25914103 0.21782109\n",
      " 0.260014   0.22233093]\n",
      "NPMI: 0.1779092527483113\n",
      "TU: 0.965\n"
     ]
    }
   ],
   "source": [
    "choices = greedy(info['topics'], info['total_score'], 20, 1)\n",
    "new_scores = np.array(info[\"total_score\"])[choices]\n",
    "print(new_scores)\n",
    "print(\"NPMI:\", new_scores.mean())\n",
    "print('TU:', count_unique_words(np.array(info[\"topics\"])[choices])/(20*10))"
   ]
  },
  {
   "cell_type": "markdown",
   "id": "7ca23c9c",
   "metadata": {},
   "source": [
    "### 50 Topics"
   ]
  },
  {
   "cell_type": "code",
   "execution_count": 9,
   "id": "bcb9cb8e",
   "metadata": {},
   "outputs": [],
   "source": [
    "info = pickle.load(open(\"play_data/ctm50_20NewsGroup_min0.01.pkl\", 'rb'))"
   ]
  },
  {
   "cell_type": "code",
   "execution_count": 10,
   "id": "d5b79e63",
   "metadata": {},
   "outputs": [
    {
     "name": "stdout",
     "output_type": "stream",
     "text": [
      "[ 0.2239518   0.18890683  0.10372453  0.08915283  0.1510836   0.12396891\n",
      "  0.06019823 -0.22128564  0.1661767   0.2322063   0.1051814   0.09629595\n",
      "  0.15878488  0.16596197  0.10028138  0.05697831  0.04358215  0.09816278\n",
      "  0.08296363 -0.2096707   0.21927826 -0.37769737  0.23598874  0.19918049\n",
      "  0.15499105  0.07727258  0.09428867  0.24504064  0.13331374  0.07446661\n",
      "  0.07163571 -0.10080373  0.23587566  0.13155152  0.06580715  0.01719499\n",
      "  0.02527067  0.03920967  0.00220525 -0.11752273  0.20466444  0.22930769\n",
      "  0.13830927  0.10582362  0.2849324   0.11583856 -0.00541123  0.05009486\n",
      "  0.13041702  0.04934685]\n",
      "NPMI: 0.09092953780349522\n",
      "TU: 0.818\n"
     ]
    }
   ],
   "source": [
    "old_scores = np.array(info[\"total_score\"])[info['topics_list_old']]\n",
    "print(old_scores)\n",
    "print(\"NPMI:\", old_scores.mean())\n",
    "print('TU:', count_unique_words(np.array(info[\"topics\"])[info['topics_list_old']])/(50*10))"
   ]
  },
  {
   "cell_type": "code",
   "execution_count": 11,
   "id": "6d010f91",
   "metadata": {
    "scrolled": true
   },
   "outputs": [
    {
     "name": "stdout",
     "output_type": "stream",
     "text": [
      "Set parameter MIPGap to value 0.05\n",
      "Set parameter TimeLimit to value 3600\n",
      "Gurobi Optimizer version 9.5.1 build v9.5.1rc2 (linux64)\n",
      "Thread count: 28 physical cores, 56 logical processors, using up to 28 threads\n",
      "Optimize a model with 51165 rows, 1414 columns and 115257 nonzeros\n",
      "Model fingerprint: 0xcfea2797\n",
      "Variable types: 0 continuous, 1414 integer (1414 binary)\n",
      "Coefficient statistics:\n",
      "  Matrix range     [1e+00, 1e+00]\n",
      "  Objective range  [2e-05, 4e-01]\n",
      "  Bounds range     [1e+00, 1e+00]\n",
      "  RHS range        [1e+00, 5e+01]\n",
      "\n",
      "User MIP start did not produce a new incumbent solution\n",
      "User MIP start violates constraint R1 by 3.000000000\n",
      "\n",
      "Found heuristic solution: objective -0.5114718\n",
      "Presolve removed 46449 rows and 1 columns\n",
      "Presolve time: 0.61s\n",
      "Presolved: 4716 rows, 1413 columns, 64047 nonzeros\n",
      "Variable types: 0 continuous, 1413 integer (1413 binary)\n",
      "Found heuristic solution: objective 5.0886632\n",
      "\n",
      "Root relaxation: objective 7.241601e+00, 621 iterations, 0.05 seconds (0.05 work units)\n",
      "Another try with MIP start\n",
      "\n",
      "    Nodes    |    Current Node    |     Objective Bounds      |     Work\n",
      " Expl Unexpl |  Obj  Depth IntInf | Incumbent    BestBd   Gap | It/Node Time\n",
      "\n",
      "     0     0    7.24160    0  129    5.08866    7.24160  42.3%     -    0s\n",
      "H    0     0                       6.3929547    7.24160  13.3%     -    0s\n",
      "H    0     0                       6.5838085    7.24160  10.0%     -    0s\n",
      "H    0     0                       6.7688932    7.24160  6.98%     -    0s\n",
      "     0     0    7.03023    0  109    6.76889    7.03023  3.86%     -    0s\n",
      "\n",
      "Cutting planes:\n",
      "  Gomory: 33\n",
      "  Clique: 54\n",
      "  Zero half: 68\n",
      "  RLT: 3\n",
      "\n",
      "Explored 1 nodes (869 simplex iterations) in 0.91 seconds (0.72 work units)\n",
      "Thread count was 28 (of 56 available processors)\n",
      "\n",
      "Solution count 5: 6.76889 6.58381 6.39295 ... -0.511472\n",
      "\n",
      "Optimal solution found (tolerance 5.00e-02)\n",
      "Best objective 6.768893241781e+00, best bound 7.030226854852e+00, gap 3.8608%\n",
      "[0.1100765  0.09923488 0.09960592 0.08693322 0.07727108 0.07714922\n",
      " 0.07576233 0.0864433  0.06693093 0.0550812  0.04939097 0.09964926\n",
      " 0.10161573 0.05494365 0.13046844 0.04953801 0.06223993 0.0572433\n",
      " 0.1095668  0.24887168 0.17928701 0.2081166  0.25263338 0.13801338\n",
      " 0.23654112 0.10870901 0.12038578 0.17678126 0.1703487  0.14290611\n",
      " 0.11736729 0.0524121  0.12464151 0.14513956 0.21196298 0.15796266\n",
      " 0.11396555 0.12970595 0.2077402  0.2655323  0.16162054 0.11454765\n",
      " 0.27829563 0.08915283 0.1510836  0.1661767  0.16596197 0.09428867\n",
      " 0.20466444 0.2849324 ]\n",
      "NPMI: 0.13537786483561468\n",
      "TU: 0.874\n"
     ]
    }
   ],
   "source": [
    "choices = mwbis(info['topics'], info['total_score'], 50, 1, info['topics_list_old'])\n",
    "new_scores = np.array(info[\"total_score\"])[choices]\n",
    "print(new_scores)\n",
    "print(\"NPMI:\", new_scores.mean())\n",
    "print('TU:', count_unique_words(np.array(info[\"topics\"])[choices])/(50*10))"
   ]
  },
  {
   "cell_type": "code",
   "execution_count": 12,
   "id": "564e0bf9",
   "metadata": {},
   "outputs": [
    {
     "name": "stdout",
     "output_type": "stream",
     "text": [
      "[0.0144081  0.02166352 0.0166348  0.09923488 0.09960592 0.03912282\n",
      " 0.03537636 0.07755506 0.08267943 0.02325178 0.0515866  0.04939097\n",
      " 0.09964926 0.13046844 0.06223993 0.07941264 0.03617064 0.12326511\n",
      " 0.24887168 0.25263338 0.06719181 0.04769222 0.15142296 0.21123636\n",
      " 0.22759054 0.23654112 0.12038578 0.20255409 0.26747926 0.03751669\n",
      " 0.14513956 0.2681116  0.13723397 0.18380681 0.2080491  0.12890535\n",
      " 0.17695306 0.19498514 0.14398615 0.10129368 0.16027475 0.12970595\n",
      " 0.2077402  0.18994246 0.04291382 0.27829563 0.16596197 0.23598874\n",
      " 0.2849324  0.13041702]\n",
      "NPMI: 0.13454938946423775\n",
      "TU: 0.89\n"
     ]
    }
   ],
   "source": [
    "choices = greedy(info['topics'], info['total_score'], 50, 2)\n",
    "new_scores = np.array(info[\"total_score\"])[choices]\n",
    "print(new_scores)\n",
    "print(\"NPMI:\", new_scores.mean())\n",
    "print('TU:', count_unique_words(np.array(info[\"topics\"])[choices])/(50*10))"
   ]
  },
  {
   "cell_type": "code",
   "execution_count": 13,
   "id": "6a7ed1f9",
   "metadata": {
    "scrolled": true
   },
   "outputs": [
    {
     "name": "stdout",
     "output_type": "stream",
     "text": [
      "Set parameter MIPGap to value 0.05\n",
      "Set parameter TimeLimit to value 3600\n",
      "Gurobi Optimizer version 9.5.1 build v9.5.1rc2 (linux64)\n",
      "Thread count: 28 physical cores, 56 logical processors, using up to 28 threads\n",
      "Optimize a model with 1236 rows, 2648 columns and 17865 nonzeros\n",
      "Model fingerprint: 0xbc69240b\n",
      "Variable types: 0 continuous, 2648 integer (2648 binary)\n",
      "Coefficient statistics:\n",
      "  Matrix range     [1e+00, 1e+00]\n",
      "  Objective range  [2e-05, 4e-01]\n",
      "  Bounds range     [1e+00, 1e+00]\n",
      "  RHS range        [5e+01, 4e+02]\n",
      "\n",
      "User MIP start did not produce a new incumbent solution\n",
      "\n",
      "Presolve removed 0 rows and 2 columns\n",
      "Presolve time: 0.02s\n",
      "Presolved: 1236 rows, 2646 columns, 17843 nonzeros\n",
      "Variable types: 0 continuous, 2646 integer (2644 binary)\n",
      "\n",
      "Root relaxation: objective 7.451059e+00, 1909 iterations, 0.04 seconds (0.04 work units)\n",
      "Another try with MIP start\n",
      "\n",
      "    Nodes    |    Current Node    |     Objective Bounds      |     Work\n",
      " Expl Unexpl |  Obj  Depth IntInf | Incumbent    BestBd   Gap | It/Node Time\n",
      "\n",
      "H    0     0                       7.3525551    7.45106  1.34%     -    0s\n",
      "     0     0    7.45106    0  308    7.35256    7.45106  1.34%     -    0s\n",
      "\n",
      "Explored 1 nodes (1909 simplex iterations) in 0.29 seconds (0.18 work units)\n",
      "Thread count was 28 (of 56 available processors)\n",
      "\n",
      "Solution count 1: 7.35256 \n",
      "\n",
      "Optimal solution found (tolerance 5.00e-02)\n",
      "Best objective 7.352555114761e+00, best bound 7.451059000062e+00, gap 1.3397%\n",
      "[0.06931052 0.14933599 0.0166348  0.09960592 0.03537636 0.03500778\n",
      " 0.04039022 0.04939097 0.09964926 0.10161573 0.13046844 0.00669712\n",
      " 0.06223993 0.1275652  0.0572433  0.12724235 0.23151446 0.18317669\n",
      " 0.13801338 0.18667725 0.22759054 0.09792886 0.12038578 0.17678126\n",
      " 0.11736729 0.20255409 0.15835515 0.12464151 0.24880275 0.21196298\n",
      " 0.15796266 0.2681116  0.14930368 0.19656156 0.2080491  0.12892962\n",
      " 0.2077402  0.2655323  0.18994246 0.11454765 0.2239518  0.08915283\n",
      " 0.1510836  0.12396891 0.2322063  0.16596197 0.21927826 0.23598874\n",
      " 0.10582362 0.2849324 ]\n",
      "NPMI: 0.14705110229521812\n",
      "TU: 0.908\n"
     ]
    }
   ],
   "source": [
    "choices = mdkp(info['topics'], info['total_score'], 50, 0.90*50*10, info['topics_list_old'])\n",
    "new_scores = np.array(info[\"total_score\"])[choices]\n",
    "print(new_scores)\n",
    "print(\"NPMI:\", new_scores.mean())\n",
    "print('TU:', count_unique_words(np.array(info[\"topics\"])[choices])/(50*10))"
   ]
  },
  {
   "cell_type": "markdown",
   "id": "74d8b448",
   "metadata": {},
   "source": [
    "### Examples from previous MDKP (new topic set $\\hat{T}$)"
   ]
  },
  {
   "cell_type": "code",
   "execution_count": 14,
   "id": "9787371a",
   "metadata": {
    "scrolled": true
   },
   "outputs": [
    {
     "name": "stdout",
     "output_type": "stream",
     "text": [
      " 0.069 punishment death innocent responsible life commit die wrong kid peace\n",
      "\t> 0.074 good love life sin people parent thing make faith baby\n",
      "\t> 0.116 civilian compound bomb weapon innocent fire kill police israeli batf\n",
      " 0.149 planet element space mission soviet surface degree solar mile map\n",
      "\t> 0.098 greek territory border israeli war state turkish military century population\n",
      "\t> 0.077 element conference shuttle map software image processing space pub satellite\n",
      " 0.017 export register implement destroy release order build product scheme provide\n",
      "\t> 0.124 window widget application destroy class resource default include set shell\n",
      "\t> 0.245 phone government chip escrow clipper algorithm encryption secure scheme agency\n",
      " 0.100 bike corner side back leg left minute start stick put\n",
      "\t> 0.044 bike ride motorcycle pain doctor food eat effect water weight\n",
      "\t> 0.236 game period goal shot blue penalty score lead king win\n",
      " 0.035 cell case work low current supply resistance high normal volume\n",
      "\t> 0.105 year drug adult procedure patient education page treatment medical health\n",
      "\t> 0.166 voltage circuit wire input output ground green line signal noise\n",
      " 0.035 male adult find child sex cite show parent significant literature\n",
      "\t> 0.105 year drug adult procedure patient education page treatment medical health\n",
      "\t> 0.159 scripture church interpretation christian tradition homosexuality cite male refer verse\n",
      " 0.040 day bike teach heart blood time sit thing turn live\n",
      "\t> 0.104 eternal son verse hell god jewish reveal pray greek promise\n",
      "\t> 0.044 bike ride motorcycle pain doctor food eat effect water weight\n",
      " 0.049 listen phone voice door steal brother guy buy house couldn\n",
      "\t> 0.245 phone government chip escrow clipper algorithm encryption secure scheme agency\n",
      "\t> 0.072 people time floor neighbor start work happen building beat sit\n",
      " 0.100 week ago month summer morning weekend hour friend yesterday today\n",
      "\t> 0.039 church religion president decision movement people catholic religious yesterday group\n",
      "\t> 0.050 month ago week summer ticket friend owner sell weekend late\n",
      " 0.102 font printer resolution processor print picture kit screen feature fast\n",
      "\t> 0.083 font character convert print utility edit draw manager advance compile\n",
      "\t> 0.133 video offer card fast speed performance price scsi processor memory\n",
      " 0.130 system observation science experiment observe energy predict theory objective scientific\n",
      "\t> 0.132 objective science moral morality scientific observation agree theory evidence absolute\n",
      "\t> 0.285 orbit launch mission rocket satellite moon shuttle earth surface space\n",
      " 0.007 hot recall reduce replace due heat trouble motor cold weight\n",
      "\t> 0.155 car engine brake drive speed shift wheel front auto power\n",
      "\t>-0.118 longer eventually reduce recall quickly hot due possibly exercise extend\n",
      " 0.062 annual art cover page factor animal issue condition black flight\n",
      "\t> 0.105 year drug adult procedure patient education page treatment medical health\n",
      "\t> 0.100 bag annual price copy art cover title print book shipping\n",
      " 0.128 expensive cheap big cost buy sell company market worth money\n",
      "\t> 0.245 phone government chip escrow clipper algorithm encryption secure scheme agency\n",
      "\t> 0.066 low small large range engine model car shape big condition\n",
      " 0.057 range small large low model size quality audio project filter\n",
      "\t> 0.066 low small large range engine model car shape big condition\n",
      "\t> 0.025 format good image make software mail permission entry file send\n",
      " 0.127 israeli jewish population minority territory arab state human greek force\n",
      "\t> 0.224 gay homosexual sex sexual survey man homosexuality hate behavior straight\n",
      "\t> 0.098 greek territory border israeli war state turkish military century population\n",
      " 0.232 card port bus ram controller video cpu memory serial mhz\n",
      "\t> 0.189 port card controller motherboard mouse video serial modem monitor bus\n",
      "\t> 0.060 frame system client run configuration performance movie cpu card mhz\n",
      " 0.183 card port monitor modem apple motherboard mouse video board serial\n",
      "\t> 0.130 apple card monitor buy computer modem upgrade keyboard customer software\n",
      "\t> 0.189 port card controller motherboard mouse video serial modem monitor bus\n",
      " 0.138 verse god word scripture christian biblical refer father gospel son\n",
      "\t> 0.104 eternal son verse hell god jewish reveal pray greek promise\n",
      "\t> 0.159 scripture church interpretation christian tradition homosexuality cite male refer verse\n",
      " 0.187 year good game player team league season average bad stat\n",
      "\t> 0.166 year good average hit pitcher run pitch player bat stat\n",
      "\t> 0.199 team game hockey year ice player season draft point sport\n",
      " 0.228 baseball pitch pitcher ball hit bat game throw walk field\n",
      "\t> 0.166 year good average hit pitcher run pitch player bat stat\n",
      "\t> 0.236 baseball ball pitch pitcher throw hit game fan bat catch\n",
      " 0.098 book publish write history article letter newspaper post read anti\n",
      "\t> 0.232 genocide people massacre turkish armenian paragraph muslim government dead village\n",
      "\t> 0.049 book read post medical publish article write topic newsgroup vote\n",
      " 0.120 make government administration fund bill official president technology industry decision\n",
      "\t> 0.096 privacy internet file network system computer usenet electronic policy law\n",
      "\t> 0.057 make money fund tax package work president russian administration good\n",
      " 0.177 internet address email mail network site domain access mailing usenet\n",
      "\t> 0.138 address mail advance email reply mailing internet domain topic summary\n",
      "\t> 0.096 privacy internet file network system computer usenet electronic policy law\n",
      " 0.117 morality absolute derive moral interpret definition evidence agree observation principle\n",
      "\t> 0.132 objective science moral morality scientific observation agree theory evidence absolute\n",
      "\t> 0.159 scripture church interpretation christian tradition homosexuality cite male refer verse\n",
      " 0.203 church catholic tradition christian religion movement teaching scripture understanding faith\n",
      "\t> 0.159 scripture church interpretation christian tradition homosexuality cite male refer verse\n",
      "\t> 0.039 church religion president decision movement people catholic religious yesterday group\n",
      " 0.158 israeli civilian war border territory bomb military weapon attack land\n",
      "\t> 0.098 greek territory border israeli war state turkish military century population\n",
      "\t> 0.116 civilian compound bomb weapon innocent fire kill police israeli batf\n",
      " 0.125 convert font character format shareware code utility compile graphic edit\n",
      "\t> 0.083 font character convert print utility edit draw manager advance compile\n",
      "\t> 0.025 format good image make software mail permission entry file send\n",
      " 0.249 hockey game team playoff fan player sport ice ranger final\n",
      "\t> 0.229 playoff hockey game fan cap lose team final ranger pen\n",
      "\t> 0.199 team game hockey year ice player season draft point sport\n",
      " 0.212 brake wheel lock rear shift front gear road tire transmission\n",
      "\t> 0.155 car engine brake drive speed shift wheel front auto power\n",
      "\t> 0.002 lock dog wheel clean brake mirror rear push left cool\n",
      " 0.158 car engine power battery speed mile temperature fuel motor air\n",
      "\t> 0.155 car engine brake drive speed shift wheel front auto power\n",
      "\t> 0.285 orbit launch mission rocket satellite moon shuttle earth surface space\n",
      " 0.268 chip key clipper algorithm escrow encryption session encrypt secure block\n",
      "\t> 0.094 block key bit session serial secret number attack encrypt faq\n",
      "\t> 0.245 phone government chip escrow clipper algorithm encryption secure scheme agency\n",
      " 0.149 government illegal terrorist police warrant citizen cop criminal legal country\n",
      "\t> 0.245 phone government chip escrow clipper algorithm encryption secure scheme agency\n",
      "\t> 0.116 civilian compound bomb weapon innocent fire kill police israeli batf\n",
      " 0.197 game fan baseball playoff cap watch lose pen night coverage\n",
      "\t> 0.236 baseball ball pitch pitcher throw hit game fan bat catch\n",
      "\t> 0.229 playoff hockey game fan cap lose team final ranger pen\n",
      " 0.208 fire batf agent knock tank compound gas warrant tear building\n",
      "\t> 0.205 batf warrant agent fire arrest shoot knock cop compound police\n",
      "\t>-0.005 window problem mouse fire crash run screen bug gas tank\n",
      " 0.129 system software server run library workstation database version client processing\n",
      "\t> 0.077 element conference shuttle map software image processing space pub satellite\n",
      "\t> 0.017 good printer keyboard software mail graphic file trace format archive\n",
      "\t> 0.060 frame system client run configuration performance movie cpu card mhz\n",
      " 0.208 medical doctor medicine treatment patient pain advice hospital health disease\n",
      "\t> 0.044 bike ride motorcycle pain doctor food eat effect water weight\n",
      "\t> 0.049 book read post medical publish article write topic newsgroup vote\n",
      "\t> 0.105 year drug adult procedure patient education page treatment medical health\n",
      " 0.266 encryption law chip secure escrow key security enforcement clipper agency\n",
      "\t> 0.096 privacy internet file network system computer usenet electronic policy law\n",
      "\t> 0.094 block key bit session serial secret number attack encrypt faq\n",
      "\t> 0.245 phone government chip escrow clipper algorithm encryption secure scheme agency\n",
      " 0.190 price sell buy condition shipping sale offer brand cheap pay\n",
      "\t> 0.066 low small large range engine model car shape big condition\n",
      "\t> 0.133 video offer card fast speed performance price scsi processor memory\n",
      "\t> 0.100 bag annual price copy art cover title print book shipping\n",
      " 0.115 reply reader topic interested respond email summary news response advance\n",
      "\t> 0.049 book read post medical publish article write topic newsgroup vote\n",
      "\t> 0.138 address mail advance email reply mailing internet domain topic summary\n",
      "\t>-0.378 complaint location film portion rid pre examine feed arise track\n",
      " 0.224 gay homosexual sex sexual survey man homosexuality hate behavior straight\n",
      "\t> original component topic\n",
      " 0.089 atheism atheist belief question exist conclusion religion logic explanation point\n",
      "\t> original component topic\n",
      " 0.151 color compression quality image scale bit compress program conversion display\n",
      "\t> original component topic\n",
      " 0.124 window widget application destroy class resource default include set shell\n",
      "\t> original component topic\n",
      " 0.232 genocide people massacre turkish armenian paragraph muslim government dead village\n",
      "\t> original component topic\n",
      " 0.166 voltage circuit wire input output ground green line signal noise\n",
      "\t> original component topic\n",
      " 0.219 drive disk scsi ide boot floppy hard problem pin cable\n",
      "\t> original component topic\n",
      " 0.236 game period goal shot blue penalty score lead king win\n",
      "\t> original component topic\n",
      " 0.106 gun insurance violent crime firearm accident rate drug license canadian\n",
      "\t> original component topic\n",
      " 0.285 orbit launch mission rocket satellite moon shuttle earth surface space\n",
      "\t> original component topic\n"
     ]
    }
   ],
   "source": [
    "for i in range(len(choices)):\n",
    "    if choices[i]:\n",
    "        print(\"{0: .3f}\".format(info[\"total_score\"][i]), \" \".join(info[\"topics\"][i]))\n",
    "        if i in info[\"topics_list_old\"]:\n",
    "            print('\\t> original component topic')\n",
    "            continue\n",
    "        for component in info[\"topics_combination\"][i]:\n",
    "            c = info['topics_list_old'][component]\n",
    "            print(\"\\t>{0: .3f}\".format(info[\"total_score\"][c]), \" \".join(info[\"topics\"][c]))"
   ]
  },
  {
   "cell_type": "markdown",
   "id": "2fed1ba6",
   "metadata": {},
   "source": [
    "### Examples from original but excluded from new topic set"
   ]
  },
  {
   "cell_type": "code",
   "execution_count": 15,
   "id": "00d0121b",
   "metadata": {},
   "outputs": [
    {
     "name": "stdout",
     "output_type": "stream",
     "text": [
      " 0.189 port card controller motherboard mouse video serial modem monitor bus\n",
      " 0.104 eternal son verse hell god jewish reveal pray greek promise\n",
      " 0.060 frame system client run configuration performance movie cpu card mhz\n",
      "-0.221 portion completely joke possibly pre eventually encounter typical difficult lay\n",
      " 0.166 year good average hit pitcher run pitch player bat stat\n",
      " 0.105 year drug adult procedure patient education page treatment medical health\n",
      " 0.096 privacy internet file network system computer usenet electronic policy law\n",
      " 0.159 scripture church interpretation christian tradition homosexuality cite male refer verse\n",
      " 0.100 bag annual price copy art cover title print book shipping\n",
      " 0.057 make money fund tax package work president russian administration good\n",
      " 0.044 bike ride motorcycle pain doctor food eat effect water weight\n",
      " 0.098 greek territory border israeli war state turkish military century population\n",
      " 0.083 font character convert print utility edit draw manager advance compile\n",
      "-0.210 cheap portion reasonable accurate helpful examine usual simple nice suit\n",
      "-0.378 complaint location film portion rid pre examine feed arise track\n",
      " 0.199 team game hockey year ice player season draft point sport\n",
      " 0.155 car engine brake drive speed shift wheel front auto power\n",
      " 0.077 element conference shuttle map software image processing space pub satellite\n",
      " 0.094 block key bit session serial secret number attack encrypt faq\n",
      " 0.245 phone government chip escrow clipper algorithm encryption secure scheme agency\n",
      " 0.133 video offer card fast speed performance price scsi processor memory\n",
      " 0.074 good love life sin people parent thing make faith baby\n",
      " 0.072 people time floor neighbor start work happen building beat sit\n",
      "-0.101 freedom respect defend objective speech personal cheer shouldn portion sentence\n",
      " 0.236 baseball ball pitch pitcher throw hit game fan bat catch\n",
      " 0.132 objective science moral morality scientific observation agree theory evidence absolute\n",
      " 0.066 low small large range engine model car shape big condition\n",
      " 0.017 good printer keyboard software mail graphic file trace format archive\n",
      " 0.025 format good image make software mail permission entry file send\n",
      " 0.039 church religion president decision movement people catholic religious yesterday group\n",
      " 0.002 lock dog wheel clean brake mirror rear push left cool\n",
      "-0.118 longer eventually reduce recall quickly hot due possibly exercise extend\n",
      " 0.205 batf warrant agent fire arrest shoot knock cop compound police\n",
      " 0.229 playoff hockey game fan cap lose team final ranger pen\n",
      " 0.138 address mail advance email reply mailing internet domain topic summary\n",
      " 0.116 civilian compound bomb weapon innocent fire kill police israeli batf\n",
      "-0.005 window problem mouse fire crash run screen bug gas tank\n",
      " 0.050 month ago week summer ticket friend owner sell weekend late\n",
      " 0.130 apple card monitor buy computer modem upgrade keyboard customer software\n",
      " 0.049 book read post medical publish article write topic newsgroup vote\n"
     ]
    }
   ],
   "source": [
    "for i in info['topics_list_old']:\n",
    "    if choices[i]:\n",
    "        continue\n",
    "    print(\"{0: .3f}\".format(info[\"total_score\"][i]), \" \".join(info[\"topics\"][i]))"
   ]
  }
 ],
 "metadata": {
  "kernelspec": {
   "display_name": "Python 3 (ipykernel)",
   "language": "python",
   "name": "python3"
  },
  "language_info": {
   "codemirror_mode": {
    "name": "ipython",
    "version": 3
   },
   "file_extension": ".py",
   "mimetype": "text/x-python",
   "name": "python",
   "nbconvert_exporter": "python",
   "pygments_lexer": "ipython3",
   "version": "3.8.12"
  }
 },
 "nbformat": 4,
 "nbformat_minor": 5
}
