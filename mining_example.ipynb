{
 "cells": [
  {
   "cell_type": "code",
   "execution_count": 1,
   "id": "b71875e9",
   "metadata": {},
   "outputs": [],
   "source": [
    "%load_ext autoreload\n",
    "%autoreload 2"
   ]
  },
  {
   "cell_type": "markdown",
   "id": "516465c8",
   "metadata": {},
   "source": [
    "### Additional Requirements\n",
    "\n",
    "If you wish to run this entire notebook, you need to install OCTIS\n",
    "\n",
    "~~~\n",
    "pip install octis\n",
    "~~~"
   ]
  },
  {
   "cell_type": "code",
   "execution_count": 2,
   "id": "6bddc160",
   "metadata": {},
   "outputs": [],
   "source": [
    "import os\n",
    "\n",
    "os.environ['CUDA_DEVICE_ORDER'] = 'PCI_BUS_ID'\n",
    "os.environ['CUDA_VISIBLE_DEVICES'] = str(0)\n",
    "\n",
    "import pickle\n",
    "import numpy as np\n",
    "import pandas as pd\n",
    "from mlxtend.frequent_patterns import apriori"
   ]
  },
  {
   "cell_type": "markdown",
   "id": "0f0522f3",
   "metadata": {},
   "source": [
    "#### Train the model and get topic-word, topic-document distribution\n",
    "\n",
    "#### For this notebook, we use OCTIS to train, you may substitute it with any NTMof your choosing"
   ]
  },
  {
   "cell_type": "code",
   "execution_count": 3,
   "id": "c59994d5",
   "metadata": {
    "scrolled": true
   },
   "outputs": [
    {
     "name": "stderr",
     "output_type": "stream",
     "text": [
      "<frozen importlib._bootstrap>:219: RuntimeWarning: scipy._lib.messagestream.MessageStream size changed, may indicate binary incompatibility. Expected 56 from C header, got 64 from PyObject\n"
     ]
    },
    {
     "name": "stdout",
     "output_type": "stream",
     "text": [
      "Epoch: [1/100]\tSamples: [11415/1141500]\tTrain Loss: 381.6961956410151\tTime: 0:00:01.298062\n",
      "Epoch: [1/100]\tSamples: [2447/244700]\tValidation Loss: 340.9318409659787\tTime: 0:00:00.096666\n",
      "Epoch: [2/100]\tSamples: [22830/1141500]\tTrain Loss: 360.61556879311763\tTime: 0:00:00.795674\n",
      "Epoch: [2/100]\tSamples: [2447/244700]\tValidation Loss: 335.76189524561323\tTime: 0:00:00.052756\n",
      "Epoch: [3/100]\tSamples: [34245/1141500]\tTrain Loss: 352.9748807421704\tTime: 0:00:00.820251\n",
      "Epoch: [3/100]\tSamples: [2447/244700]\tValidation Loss: 330.5557247235135\tTime: 0:00:00.097542\n",
      "Epoch: [4/100]\tSamples: [45660/1141500]\tTrain Loss: 348.878914805081\tTime: 0:00:00.561746\n",
      "Epoch: [4/100]\tSamples: [2447/244700]\tValidation Loss: 329.59659069140787\tTime: 0:00:00.070083\n",
      "Epoch: [5/100]\tSamples: [57075/1141500]\tTrain Loss: 345.8888331382775\tTime: 0:00:00.872701\n",
      "Epoch: [5/100]\tSamples: [2447/244700]\tValidation Loss: 326.6838496636506\tTime: 0:00:00.053087\n",
      "Epoch: [6/100]\tSamples: [68490/1141500]\tTrain Loss: 344.0899976559078\tTime: 0:00:00.595578\n",
      "Epoch: [6/100]\tSamples: [2447/244700]\tValidation Loss: 324.84957884495043\tTime: 0:00:00.084397\n",
      "Epoch: [7/100]\tSamples: [79905/1141500]\tTrain Loss: 342.6428290455267\tTime: 0:00:00.819372\n",
      "Epoch: [7/100]\tSamples: [2447/244700]\tValidation Loss: 323.05507700756027\tTime: 0:00:00.061332\n",
      "Epoch: [8/100]\tSamples: [91320/1141500]\tTrain Loss: 341.5664263544404\tTime: 0:00:00.644521\n",
      "Epoch: [8/100]\tSamples: [2447/244700]\tValidation Loss: 323.15227031824685\tTime: 0:00:00.097018\n",
      "Epoch: [9/100]\tSamples: [102735/1141500]\tTrain Loss: 340.81016677274965\tTime: 0:00:00.750941\n",
      "Epoch: [9/100]\tSamples: [2447/244700]\tValidation Loss: 321.6146453246322\tTime: 0:00:00.053204\n",
      "Epoch: [10/100]\tSamples: [114150/1141500]\tTrain Loss: 339.8055142202557\tTime: 0:00:00.829067\n",
      "Epoch: [10/100]\tSamples: [2447/244700]\tValidation Loss: 320.5831544764635\tTime: 0:00:00.096226\n",
      "Epoch: [11/100]\tSamples: [125565/1141500]\tTrain Loss: 338.6638471686104\tTime: 0:00:00.617311\n",
      "Epoch: [11/100]\tSamples: [2447/244700]\tValidation Loss: 318.9862272561108\tTime: 0:00:00.053153\n",
      "Epoch: [12/100]\tSamples: [136980/1141500]\tTrain Loss: 337.9771193502245\tTime: 0:00:00.862787\n",
      "Epoch: [12/100]\tSamples: [2447/244700]\tValidation Loss: 319.13502981967713\tTime: 0:00:00.075293\n",
      "Epoch: [13/100]\tSamples: [148395/1141500]\tTrain Loss: 337.716876266152\tTime: 0:00:00.559555\n",
      "Epoch: [13/100]\tSamples: [2447/244700]\tValidation Loss: 318.03208748116316\tTime: 0:00:00.074880\n",
      "Epoch: [14/100]\tSamples: [159810/1141500]\tTrain Loss: 337.04193538176196\tTime: 0:00:00.868276\n",
      "Epoch: [14/100]\tSamples: [2447/244700]\tValidation Loss: 317.3410004996552\tTime: 0:00:00.053045\n",
      "Epoch: [15/100]\tSamples: [171225/1141500]\tTrain Loss: 336.8120827259226\tTime: 0:00:00.617938\n",
      "Epoch: [15/100]\tSamples: [2447/244700]\tValidation Loss: 317.7618416683694\tTime: 0:00:00.083421\n",
      "Epoch: [16/100]\tSamples: [182640/1141500]\tTrain Loss: 335.90053751574135\tTime: 0:00:00.815575\n",
      "Epoch: [16/100]\tSamples: [2447/244700]\tValidation Loss: 317.08784931963885\tTime: 0:00:00.053223\n",
      "Epoch: [17/100]\tSamples: [194055/1141500]\tTrain Loss: 336.37667767277844\tTime: 0:00:00.677989\n",
      "Epoch: [17/100]\tSamples: [2447/244700]\tValidation Loss: 316.85378261327645\tTime: 0:00:00.097379\n",
      "Epoch: [18/100]\tSamples: [205470/1141500]\tTrain Loss: 335.5721249794678\tTime: 0:00:00.749862\n",
      "Epoch: [18/100]\tSamples: [2447/244700]\tValidation Loss: 317.39924026071463\tTime: 0:00:00.053330\n",
      "Epoch: [19/100]\tSamples: [216885/1141500]\tTrain Loss: 335.32467422251426\tTime: 0:00:00.792982\n",
      "Epoch: [19/100]\tSamples: [2447/244700]\tValidation Loss: 316.67225772310485\tTime: 0:00:00.097182\n",
      "Epoch: [20/100]\tSamples: [228300/1141500]\tTrain Loss: 335.28920267500274\tTime: 0:00:00.596428\n",
      "Epoch: [20/100]\tSamples: [2447/244700]\tValidation Loss: 315.9054621052245\tTime: 0:00:00.055537\n",
      "Epoch: [21/100]\tSamples: [239715/1141500]\tTrain Loss: 335.01619729214576\tTime: 0:00:00.897360\n",
      "Epoch: [21/100]\tSamples: [2447/244700]\tValidation Loss: 316.2285460552782\tTime: 0:00:00.055782\n",
      "Epoch: [22/100]\tSamples: [251130/1141500]\tTrain Loss: 334.92723843695245\tTime: 0:00:00.581891\n",
      "Epoch: [22/100]\tSamples: [2447/244700]\tValidation Loss: 316.4946828825794\tTime: 0:00:00.098020\n",
      "Epoch: [23/100]\tSamples: [262545/1141500]\tTrain Loss: 334.82727723424495\tTime: 0:00:00.824105\n",
      "Epoch: [23/100]\tSamples: [2447/244700]\tValidation Loss: 316.1082389030254\tTime: 0:00:00.072044\n",
      "Epoch: [24/100]\tSamples: [273960/1141500]\tTrain Loss: 334.7434733286794\tTime: 0:00:00.625333\n",
      "Epoch: [24/100]\tSamples: [2447/244700]\tValidation Loss: 315.98977951717023\tTime: 0:00:00.096974\n",
      "Epoch: [25/100]\tSamples: [285375/1141500]\tTrain Loss: 334.46421272722296\tTime: 0:00:00.775768\n",
      "Epoch: [25/100]\tSamples: [2447/244700]\tValidation Loss: 315.1932617985671\tTime: 0:00:00.053733\n",
      "Epoch: [26/100]\tSamples: [296790/1141500]\tTrain Loss: 335.1085749288217\tTime: 0:00:00.842527\n",
      "Epoch: [26/100]\tSamples: [2447/244700]\tValidation Loss: 315.8775708097607\tTime: 0:00:00.098098\n",
      "Epoch: [27/100]\tSamples: [308205/1141500]\tTrain Loss: 334.19951236038105\tTime: 0:00:00.635084\n",
      "Epoch: [27/100]\tSamples: [2447/244700]\tValidation Loss: 315.59666232727574\tTime: 0:00:00.054048\n",
      "Epoch: [28/100]\tSamples: [319620/1141500]\tTrain Loss: 334.05545326530336\tTime: 0:00:00.850355\n",
      "Epoch: [28/100]\tSamples: [2447/244700]\tValidation Loss: 315.7395271952902\tTime: 0:00:00.085917\n",
      "Epoch: [29/100]\tSamples: [331035/1141500]\tTrain Loss: 334.46602777321505\tTime: 0:00:00.562343\n",
      "Epoch: [29/100]\tSamples: [2447/244700]\tValidation Loss: 314.8369006931319\tTime: 0:00:00.083874\n",
      "Epoch: [30/100]\tSamples: [342450/1141500]\tTrain Loss: 334.10561307421705\tTime: 0:00:00.851246\n",
      "Epoch: [30/100]\tSamples: [2447/244700]\tValidation Loss: 315.4047615104273\tTime: 0:00:00.058419\n",
      "Epoch: [31/100]\tSamples: [353865/1141500]\tTrain Loss: 333.69893767281263\tTime: 0:00:00.636496\n",
      "Epoch: [31/100]\tSamples: [2447/244700]\tValidation Loss: 314.6274418053356\tTime: 0:00:00.095249\n",
      "Epoch: [32/100]\tSamples: [365280/1141500]\tTrain Loss: 333.5008173952174\tTime: 0:00:00.792385\n",
      "Epoch: [32/100]\tSamples: [2447/244700]\tValidation Loss: 315.6286466448074\tTime: 0:00:00.055049\n",
      "Epoch: [33/100]\tSamples: [376695/1141500]\tTrain Loss: 334.426396959182\tTime: 0:00:00.772431\n",
      "Epoch: [33/100]\tSamples: [2447/244700]\tValidation Loss: 315.75201578144157\tTime: 0:00:00.098306\n",
      "Epoch: [34/100]\tSamples: [388110/1141500]\tTrain Loss: 333.7265315306067\tTime: 0:00:00.669972\n",
      "Epoch: [34/100]\tSamples: [2447/244700]\tValidation Loss: 314.79661828817814\tTime: 0:00:00.055014\n",
      "Epoch: [35/100]\tSamples: [399525/1141500]\tTrain Loss: 334.3132459175153\tTime: 0:00:00.812427\n",
      "Epoch: [35/100]\tSamples: [2447/244700]\tValidation Loss: 315.345708313113\tTime: 0:00:00.097069\n",
      "Epoch: [36/100]\tSamples: [410940/1141500]\tTrain Loss: 333.39183032536687\tTime: 0:00:00.593877\n",
      "Epoch: [36/100]\tSamples: [2447/244700]\tValidation Loss: 314.7308091700296\tTime: 0:00:00.072446\n",
      "Early stopping\n"
     ]
    }
   ],
   "source": [
    "from octis.dataset.dataset import Dataset\n",
    "from octis.models.ProdLDA import ProdLDA\n",
    "\n",
    "dataset = Dataset()\n",
    "dataset.fetch_dataset(\"20NewsGroup\")\n",
    "# data_corpus = [' '.join(i) for i in dataset.get_corpus()]\n",
    "K = 20\n",
    "model = ProdLDA(num_topics=K)  \n",
    "model_output = model.train_model(dataset) "
   ]
  },
  {
   "cell_type": "markdown",
   "id": "1b90b222",
   "metadata": {},
   "source": [
    "#### Notice that the beta (topic-word) has negative activations and has a shape of K x V"
   ]
  },
  {
   "cell_type": "code",
   "execution_count": 4,
   "id": "2d9bea75",
   "metadata": {},
   "outputs": [
    {
     "name": "stdout",
     "output_type": "stream",
     "text": [
      "(20, 1612)\n",
      "[[ 0.25676677  0.21063197  0.38287085 ...  0.2081572   0.19192426\n",
      "   0.29204318]\n",
      " [-0.11582982 -0.1779684  -0.40677768 ... -0.46703288 -0.29751846\n",
      "  -0.2726097 ]\n",
      " [-0.01092505  0.15014514  0.01552751 ... -0.35248208 -0.11071629\n",
      "  -0.2600993 ]\n",
      " ...\n",
      " [-0.17565031 -0.3313362  -0.05640171 ...  0.0084874   0.10717141\n",
      "  -0.13018116]\n",
      " [ 0.40472564  0.23212644  0.3644143  ...  0.2615479   0.1197729\n",
      "   0.32827532]\n",
      " [-0.14924964 -0.13024591 -0.10577638 ... -0.22410616 -0.4211426\n",
      "  -0.10390038]]\n"
     ]
    }
   ],
   "source": [
    "print(model_output['topic-word-matrix'].shape)\n",
    "print(model_output['topic-word-matrix'])"
   ]
  },
  {
   "cell_type": "markdown",
   "id": "74a213de",
   "metadata": {},
   "source": [
    "### Mining Step"
   ]
  },
  {
   "cell_type": "code",
   "execution_count": 5,
   "id": "62d59ed8",
   "metadata": {},
   "outputs": [
    {
     "name": "stdout",
     "output_type": "stream",
     "text": [
      "threshold 0.05809011665833185\n",
      "\r",
      "Processing 380 combinations | Sampling itemset size 2\r",
      "Processing 1746 combinations | Sampling itemset size 3\r",
      "Processing 4344 combinations | Sampling itemset size 4\r",
      "Processing 6125 combinations | Sampling itemset size 5\n",
      "topics generated @ s = 0.01 : 1304\n"
     ]
    }
   ],
   "source": [
    "beta = model_output['topic-word-matrix'].T\n",
    "data = model_output['topic-document-matrix'].T\n",
    "mat = np.sort(data, axis=1).mean(axis=0)\n",
    "assert len(mat) == K\n",
    "\n",
    "# Find a suitable threshold kappa hyper-parameter (currently using 5th largest mean activation)\n",
    "threshold = mat[-5]\n",
    "print('threshold', threshold)\n",
    "\n",
    "reduced_data = np.zeros_like(beta)\n",
    "for i,j in np.argwhere(beta > threshold):\n",
    "    reduced_data[i,j] = 1\n",
    "\n",
    "reduced_data = pd.DataFrame(reduced_data)\n",
    "\n",
    "min_s = 0.01\n",
    "frequent_itemsets = apriori(reduced_data, \n",
    "                            min_support = min_s, \n",
    "                            max_len = 5, \n",
    "                            use_colnames = True,\n",
    "                           verbose = 1)\n",
    "\n",
    "topic_combinations = [list(a) for a in frequent_itemsets['itemsets']]\n",
    "print(\"topics generated @ s =\", min_s, \":\", len(topic_combinations))"
   ]
  },
  {
   "cell_type": "markdown",
   "id": "f178fa55",
   "metadata": {},
   "source": [
    "### Get possible compositions ($\\beta^{V x K}$)"
   ]
  },
  {
   "cell_type": "code",
   "execution_count": 6,
   "id": "cf41a3b8",
   "metadata": {
    "scrolled": true
   },
   "outputs": [],
   "source": [
    "from algo.normal import calculate_compositions\n",
    "\n",
    "output, topic_combinations = calculate_compositions(beta, topic_combinations, add_pairs=True)"
   ]
  },
  {
   "cell_type": "markdown",
   "id": "ec95e3b4",
   "metadata": {},
   "source": [
    "### Get top-$l$ vocab ($l = 10$)"
   ]
  },
  {
   "cell_type": "code",
   "execution_count": 7,
   "id": "fc9c404f",
   "metadata": {},
   "outputs": [],
   "source": [
    "topics = np.argpartition(np.array(output),-10)[:,-10:]\n",
    "vocab = dataset.get_vocabulary()\n",
    "topics = [[vocab[idx] for idx in topic] for topic in topics]"
   ]
  },
  {
   "cell_type": "markdown",
   "id": "4d28490c",
   "metadata": {},
   "source": [
    "### Calculate scores/fitness (estimation done using gensim)"
   ]
  },
  {
   "cell_type": "code",
   "execution_count": 8,
   "id": "10fe8ec8",
   "metadata": {},
   "outputs": [],
   "source": [
    "from octis.evaluation_metrics.coherence_metrics import Coherence\n",
    "from gensim.models import CoherenceModel\n",
    "\n",
    "coherence = Coherence(texts=dataset.get_corpus(), measure = 'c_npmi')\n",
    "c = CoherenceModel(topics=topics, texts=coherence._texts, dictionary=coherence._dictionary,\n",
    "                                      coherence='c_npmi', processes=4, topn=coherence.topk)\n",
    "total_scores = c.get_coherence_per_topic()"
   ]
  },
  {
   "cell_type": "code",
   "execution_count": 9,
   "id": "3129a382",
   "metadata": {},
   "outputs": [
    {
     "name": "stdout",
     "output_type": "stream",
     "text": [
      "NPMI: 0.03922319988606042\n",
      "TU: 0.88\n"
     ]
    }
   ],
   "source": [
    "from algo.normal import count_unique_words\n",
    "\n",
    "# for original\n",
    "print('NPMI:', np.mean(total_scores[:K]))\n",
    "print('TU:', count_unique_words(topics[:K]) / (K*10))"
   ]
  },
  {
   "cell_type": "markdown",
   "id": "ddfd12e3",
   "metadata": {},
   "source": [
    "### Optimization Step"
   ]
  },
  {
   "cell_type": "code",
   "execution_count": 10,
   "id": "471f23e0",
   "metadata": {
    "scrolled": true
   },
   "outputs": [
    {
     "name": "stdout",
     "output_type": "stream",
     "text": [
      "Set parameter TokenServer to value \"nas.nodes.preferred.ai\"\n",
      "Set parameter MIPGap to value 0.01\n",
      "Set parameter TimeLimit to value 3600\n",
      "Gurobi Optimizer version 9.5.1 build v9.5.1rc2 (linux64)\n",
      "Thread count: 64 physical cores, 128 logical processors, using up to 32 threads\n",
      "Optimize a model with 633 rows, 2014 columns and 16258 nonzeros\n",
      "Model fingerprint: 0x7e577084\n",
      "Variable types: 0 continuous, 2014 integer (2014 binary)\n",
      "Coefficient statistics:\n",
      "  Matrix range     [1e+00, 1e+00]\n",
      "  Objective range  [1e-04, 5e-01]\n",
      "  Bounds range     [1e+00, 1e+00]\n",
      "  RHS range        [2e+01, 2e+02]\n",
      "\n",
      "User MIP start did not produce a new incumbent solution\n",
      "\n",
      "Presolve removed 0 rows and 45 columns\n",
      "Presolve time: 0.02s\n",
      "Presolved: 633 rows, 1969 columns, 15763 nonzeros\n",
      "Variable types: 0 continuous, 1969 integer (1939 binary)\n",
      "\n",
      "Root relaxation: objective 2.265226e+00, 959 iterations, 0.01 seconds (0.02 work units)\n",
      "Another try with MIP start\n",
      "\n",
      "    Nodes    |    Current Node    |     Objective Bounds      |     Work\n",
      " Expl Unexpl |  Obj  Depth IntInf | Incumbent    BestBd   Gap | It/Node Time\n",
      "\n",
      "H    0     0                       2.1514058    2.26523  5.29%     -    0s\n",
      "     0     0    2.26523    0  227    2.15141    2.26523  5.29%     -    0s\n",
      "H    0     0                       2.1774409    2.25578  3.60%     -    0s\n",
      "     0     0    2.23234    0  193    2.17744    2.23234  2.52%     -    0s\n",
      "     0     0    2.23234    0  149    2.17744    2.23234  2.52%     -    0s\n",
      "H    0     0                       2.1991437    2.23234  1.51%     -    0s\n",
      "     0     0    2.22977    0    6    2.19914    2.22977  1.39%     -    0s\n",
      "H    0     0                       2.2041810    2.22977  1.16%     -    0s\n",
      "     0     0    2.22368    0   32    2.20418    2.22368  0.88%     -    0s\n",
      "\n",
      "Cutting planes:\n",
      "  Gomory: 7\n",
      "  Clique: 6\n",
      "  MIR: 2\n",
      "  Zero half: 19\n",
      "\n",
      "Explored 1 nodes (1491 simplex iterations) in 0.30 seconds (0.16 work units)\n",
      "Thread count was 32 (of 128 available processors)\n",
      "\n",
      "Solution count 4: 2.20418 2.19914 2.17744 2.15141 \n",
      "\n",
      "Optimal solution found (tolerance 1.00e-02)\n",
      "Best objective 2.204180987579e+00, best bound 2.223682557665e+00, gap 0.8848%\n"
     ]
    }
   ],
   "source": [
    "from algo.gp_based import mdkp\n",
    "\n",
    "choices = mdkp(topics, total_scores, K, 0.935*K*10, range(K), MIP_gap=0.01, time_limit=3600)"
   ]
  },
  {
   "cell_type": "code",
   "execution_count": 11,
   "id": "847a9442",
   "metadata": {},
   "outputs": [
    {
     "name": "stdout",
     "output_type": "stream",
     "text": [
      "NPMI: 0.11020904937895741\n",
      "TU: 0.96\n"
     ]
    }
   ],
   "source": [
    "print('NPMI:', np.mean(np.array(total_scores)[choices]))\n",
    "print('TU:', count_unique_words(np.array(topics)[choices]) / (K*10))"
   ]
  },
  {
   "cell_type": "markdown",
   "id": "bac83164",
   "metadata": {},
   "source": [
    "#### Displaying composite topics $\\hat{T}$\n",
    "\n",
    "Composite topics shown with its components indented after"
   ]
  },
  {
   "cell_type": "code",
   "execution_count": 12,
   "id": "3c6ad5bc",
   "metadata": {
    "scrolled": true
   },
   "outputs": [
    {
     "name": "stdout",
     "output_type": "stream",
     "text": [
      " 0.197 project flight element orbit launch mission satellite space shuttle system\n",
      "\t> original component topic\n",
      " 0.099 universe church scripture truth faith religion sin atheist belief atheism\n",
      "\t> original component topic\n",
      " 0.202 internet key clipper phone security technology encryption secure communication privacy\n",
      "\t> original component topic\n",
      " 0.190 keyboard serial apple mouse video board monitor card modem port\n",
      "\t> original component topic\n",
      " 0.144 tire wheel brake cover buy bike car bag oil engine\n",
      "\t> original component topic\n",
      " 0.264 star moon fly degree earth orbit mission planet solar surface\n",
      "\t> 0.126 ranger devil planet shot game blue fan red playoff cap\n",
      "\t> 0.197 project flight element orbit launch mission satellite space shuttle system\n",
      " 0.289 baseball fan hockey play season win score team playoff game\n",
      "\t> 0.126 ranger devil planet shot game blue fan red playoff cap\n",
      "\t> 0.195 play team point game player score league good year season\n",
      " 0.064 law constitution country innocent weapon civilian state people israeli crime\n",
      "\t> 0.147 greek israeli russian armenian village jewish army people population turkish\n",
      "\t> 0.173 fire law amendment assault batf firearm weapon violent gun crime\n",
      " 0.153 company mailing interested email electronic internet address mail network computer\n",
      "\t> 0.202 internet key clipper phone security technology encryption secure communication privacy\n",
      "\t> 0.134 ship offer interested email reply advance mailing sale mail address\n",
      " 0.185 purchase offer manual interested price sell condition sale ship shipping\n",
      "\t> 0.144 tire wheel brake cover buy bike car bag oil engine\n",
      "\t> 0.134 ship offer interested email reply advance mailing sale mail address\n",
      " 0.101 cap firearm assault shoot defense fire period show shot violent\n",
      "\t> 0.126 ranger devil planet shot game blue fan red playoff cap\n",
      "\t> 0.173 fire law amendment assault batf firearm weapon violent gun crime\n",
      " 0.039 judge sexual truth assume matter wrong punishment moral sex justify\n",
      "\t>-0.244 extend remark thought hole assure delete face success unique chapter\n",
      "\t> 0.099 universe church scripture truth faith religion sin atheist belief atheism\n",
      "\t> 0.173 fire law amendment assault batf firearm weapon violent gun crime\n",
      "-0.014 blow declare wing reveal cold face final enter race north\n",
      "\t> 0.126 ranger devil planet shot game blue fan red playoff cap\n",
      "\t>-0.244 extend remark thought hole assure delete face success unique chapter\n",
      "\t> 0.147 greek israeli russian armenian village jewish army people population turkish\n",
      "-0.011 warranty expensive cpu wire cycle switch circuit voltage audio replace\n",
      "\t>-0.247 drink quickly reduce complaint virtually achieve hole assure cycle frequently\n",
      "\t> 0.144 tire wheel brake cover buy bike car bag oil engine\n",
      "\t> 0.190 keyboard serial apple mouse video board monitor card modem port\n",
      " 0.115 battery seat black engine mile air water heat hole temperature\n",
      "\t>-0.247 drink quickly reduce complaint virtually achieve hole assure cycle frequently\n",
      "\t> 0.126 ranger devil planet shot game blue fan red playoff cap\n",
      "\t> 0.144 tire wheel brake cover buy bike car bag oil engine\n",
      " 0.048 eye night catch straight face watch rock throw round hour\n",
      "\t> 0.126 ranger devil planet shot game blue fan red playoff cap\n",
      "\t>-0.244 extend remark thought hole assure delete face success unique chapter\n",
      "\t> 0.124 soldier afraid door building people mother neighbor floor time room\n",
      " 0.075 slot ram floppy tech bio vga meg upgrade motherboard installation\n",
      "\t>-0.244 extend remark thought hole assure delete face success unique chapter\n",
      "\t> 0.226 floppy controller ide hard disk crash boot problem scsi drive\n",
      "\t> 0.134 ship offer interested email reply advance mailing sale mail address\n",
      "\t> 0.190 keyboard serial apple mouse video board monitor card modem port\n",
      "-0.061 federal legal owner manufacture ban initial dangerous effective amendment assure\n",
      "\t>-0.247 drink quickly reduce complaint virtually achieve hole assure cycle frequently\n",
      "\t>-0.305 range lab unique frequently complaint estimate dollar portion assure mine\n",
      "\t> 0.202 internet key clipper phone security technology encryption secure communication privacy\n",
      "\t> 0.173 fire law amendment assault batf firearm weapon violent gun crime\n",
      " 0.101 default mode instal work error run bit screen window problem\n",
      "\t> 0.096 function string application manager app event font window widget block\n",
      "\t> 0.226 floppy controller ide hard disk crash boot problem scsi drive\n",
      " 0.023 staff improve opportunity give point good year make team time\n",
      "\t> 0.195 play team point game player score league good year season\n",
      "\t> 0.071 drug increase fund president health medical year make disease patient\n"
     ]
    }
   ],
   "source": [
    "for i in range(len(choices)):\n",
    "    if choices[i]:\n",
    "        print(\"{0: .3f}\".format(total_scores[i]), \" \".join(topics[i]))\n",
    "        if i < K:\n",
    "            print('\\t> original component topic')\n",
    "            continue\n",
    "        for c in topic_combinations[i]:\n",
    "            print(\"\\t>{0: .3f}\".format(total_scores[c]), \" \".join(topics[c]))"
   ]
  },
  {
   "cell_type": "markdown",
   "id": "1e8341c9",
   "metadata": {},
   "source": [
    "#### Original topics that are excluded\n",
    "\n",
    "Notice that some \"bad\" topics are components of \"new\" composite topics"
   ]
  },
  {
   "cell_type": "code",
   "execution_count": 13,
   "id": "67c8a595",
   "metadata": {},
   "outputs": [
    {
     "name": "stdout",
     "output_type": "stream",
     "text": [
      "-0.325 portion reserve installation success prior estimate training extend frequently assure\n",
      " 0.096 function string application manager app event font window widget block\n",
      " 0.226 floppy controller ide hard disk crash boot problem scsi drive\n",
      " 0.195 play team point game player score league good year season\n",
      " 0.147 greek israeli russian armenian village jewish army people population turkish\n",
      " 0.083 run version window binary make site include widget server file\n",
      "-0.247 drink quickly reduce complaint virtually achieve hole assure cycle frequently\n",
      "-0.244 extend remark thought hole assure delete face success unique chapter\n",
      "-0.305 range lab unique frequently complaint estimate dollar portion assure mine\n",
      " 0.071 drug increase fund president health medical year make disease patient\n",
      " 0.134 ship offer interested email reply advance mailing sale mail address\n",
      " 0.173 fire law amendment assault batf firearm weapon violent gun crime\n",
      " 0.126 ranger devil planet shot game blue fan red playoff cap\n",
      " 0.124 soldier afraid door building people mother neighbor floor time room\n",
      "-0.303 estimate prior portion limited half assure success progress related frequently\n"
     ]
    }
   ],
   "source": [
    "for i in range(K):\n",
    "    if choices[i]:\n",
    "        continue\n",
    "    print(\"{0: .3f}\".format(total_scores[i]), \" \".join(topics[i]))"
   ]
  },
  {
   "cell_type": "code",
   "execution_count": null,
   "id": "9c0f1b36",
   "metadata": {},
   "outputs": [],
   "source": []
  }
 ],
 "metadata": {
  "kernelspec": {
   "display_name": "Python [conda env:pytorch]",
   "language": "python",
   "name": "conda-env-pytorch-py"
  },
  "language_info": {
   "codemirror_mode": {
    "name": "ipython",
    "version": 3
   },
   "file_extension": ".py",
   "mimetype": "text/x-python",
   "name": "python",
   "nbconvert_exporter": "python",
   "pygments_lexer": "ipython3",
   "version": "3.8.12"
  }
 },
 "nbformat": 4,
 "nbformat_minor": 5
}
